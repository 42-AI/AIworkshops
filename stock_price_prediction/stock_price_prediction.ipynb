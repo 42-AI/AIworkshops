{
 "cells": [
  {
   "cell_type": "code",
   "execution_count": null,
   "metadata": {},
   "outputs": [],
   "source": [
    "%matplotlib inline\n",
    "from keras.layers.core import Dense, Activation, Dropout\n",
    "from keras.layers.recurrent import LSTM\n",
    "from keras.models import Sequential\n",
    "import utils, time #helper libraries\n",
    "import matplotlib.pyplot as plt\n",
    "import pandas as pd"
   ]
  },
  {
   "cell_type": "markdown",
   "metadata": {},
   "source": [
    "# Stock Price Prediction\n",
    "\n",
    "Beaucoup de méthodes existent déjà pour prédire l'évolution de valeurs sur un marché. Nous allons voir dans la suite de cet atelier un *réseau de neurones récurrents* ou _RNN_.\n",
    "\n",
    "![caption](rnn.png)\n",
    "\n",
    "Ces réseaux de neurones ont la particularité de pouvoir faire des prédictions sur des _séries_ ou _données séquentielles_. Ils sont dotés d'une mémoire qui leur permet de prendre en contact des données qui précèdent les données sur lesquels il travaille."
   ]
  },
  {
   "cell_type": "markdown",
   "metadata": {},
   "source": [
    "## Observation des données\n",
    "\n",
    "Avant toutes choses, il est important de prendre connaissance des données avec lesquels nous allons entraîner notre algorithme. Nous utiliserons des relevés de l'indice boursier S&P 500 basé sur 500 grandes sociétés cotées sur les bourses américaines (Standard & Poor's).\n",
    "\n",
    "La plupart des modèles développés aujourd'hui en _deep learning_ sont des modèles supervisés. C'est à dire qu'ils se \"nourrissent\" de données labellisées pour apprendre. Cela demande donc une excellente expertise de ces dernières pour que l'IA atteigne son objectif."
   ]
  },
  {
   "cell_type": "code",
   "execution_count": null,
   "metadata": {},
   "outputs": [],
   "source": [
    "# Nous chargeons les données\n",
    "data = pd.read_csv('datas/sp500.csv', header=None)\n",
    "# Affichons les 5 premières données\n",
    "data.head()"
   ]
  },
  {
   "cell_type": "code",
   "execution_count": null,
   "metadata": {},
   "outputs": [],
   "source": [
    "# Affichons les données\n",
    "data.plot(legend=False)"
   ]
  },
  {
   "cell_type": "code",
   "execution_count": null,
   "metadata": {
    "collapsed": true
   },
   "outputs": [],
   "source": [
    "# Un peu de magie pour charger les données et normaliser\n",
    "X_train, y_train, X_test, y_test = utils.load_data('datas/sp500.csv', 50, True)"
   ]
  },
  {
   "cell_type": "markdown",
   "metadata": {},
   "source": [
    "## RNN network\n",
    "\n",
    "Une fois que nous avons nos données prêtes, il nous faut un modèle. Nous avons ci-dessus un modèle comme ceci :\n",
    "\n",
    "LSTM --> Dropout --> LSTM ---> Dropout --> Dense --> Linear Activation"
   ]
  },
  {
   "cell_type": "code",
   "execution_count": null,
   "metadata": {
    "collapsed": true
   },
   "outputs": [],
   "source": [
    "# Définition du model couche par couche\n",
    "model = Sequential()\n",
    "\n",
    "model.add(LSTM(\n",
    "    input_dim=1,\n",
    "    output_dim=50,\n",
    "    return_sequences=True))\n",
    "model.add(Dropout(0.2))\n",
    "\n",
    "model.add(LSTM(\n",
    "    100,\n",
    "    return_sequences=False))\n",
    "model.add(Dropout(0.2))\n",
    "\n",
    "model.add(Dense(\n",
    "    output_dim=1))\n",
    "model.add(Activation('linear'))\n",
    "\n",
    "model.compile(loss='mse', optimizer='rmsprop')"
   ]
  },
  {
   "cell_type": "markdown",
   "metadata": {},
   "source": [
    "## Training\n",
    "\n",
    "Une fois le modèle défini, il est temps de l'entraîner sur les données vues plus haut :"
   ]
  },
  {
   "cell_type": "code",
   "execution_count": null,
   "metadata": {},
   "outputs": [],
   "source": [
    "# Nous pouvons jouer sur les paramêtres\n",
    "history = model.fit(\n",
    "                X_train,\n",
    "                y_train,\n",
    "                batch_size=512,\n",
    "                nb_epoch=10,\n",
    "                validation_split=0.05)"
   ]
  },
  {
   "cell_type": "code",
   "execution_count": null,
   "metadata": {},
   "outputs": [],
   "source": [
    "# Affichons la \"loss\" et la \"validation loss\"\n",
    "utils.plot_losses(history)"
   ]
  },
  {
   "cell_type": "markdown",
   "metadata": {},
   "source": [
    "## Prédictions\n",
    "\n",
    "Maintenant que le modèle est entraîné, regardons ce qu'il est capable de prédire sur de nouvelles données qu'il n'a jamais vu :"
   ]
  },
  {
   "cell_type": "code",
   "execution_count": null,
   "metadata": {},
   "outputs": [],
   "source": [
    "# Le modèle prédit une seule valeur après une séquence\n",
    "p = model.predict(X_test)    \n",
    "plt.plot(y_test,color='blue', label='y_test')\n",
    "plt.plot(p,color='yellow', label='prediction')\n",
    "plt.legend(loc='upper left')\n",
    "plt.show()"
   ]
  },
  {
   "cell_type": "code",
   "execution_count": null,
   "metadata": {},
   "outputs": [],
   "source": [
    "# Le modèle prédit une suite de valeur pour avoir une \"tendance\"\n",
    "predictions = utils.predict_sequences_multiple(model, X_test, 50, 50)\n",
    "utils.plot_results_multiple(predictions, y_test, 50)"
   ]
  },
  {
   "cell_type": "markdown",
   "metadata": {},
   "source": [
    "__Comment pouvons-nous améliorer les prédictions ?__"
   ]
  }
 ],
 "metadata": {
  "kernelspec": {
   "display_name": "Python 3",
   "language": "python",
   "name": "python3"
  },
  "language_info": {
   "codemirror_mode": {
    "name": "ipython",
    "version": 3
   },
   "file_extension": ".py",
   "mimetype": "text/x-python",
   "name": "python",
   "nbconvert_exporter": "python",
   "pygments_lexer": "ipython3",
   "version": "3.6.1"
  }
 },
 "nbformat": 4,
 "nbformat_minor": 2
}
