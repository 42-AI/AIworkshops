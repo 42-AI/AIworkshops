{
 "cells": [
  {
   "cell_type": "code",
   "execution_count": null,
   "metadata": {},
   "outputs": [],
   "source": [
    "%matplotlib inline\n",
    "import pandas as pd\n",
    "import numpy as np\n",
    "import tensorflow as tf\n",
    "import matplotlib.pyplot as plt\n",
    "from utils import data_processing\n",
    "from keras.layers.core import Dense, Activation, Dropout\n",
    "from keras.layers.recurrent import LSTM\n",
    "from keras.models import Sequential"
   ]
  },
  {
   "cell_type": "markdown",
   "metadata": {},
   "source": [
    "# Stock Price Prediction\n",
    "\n",
    "Beaucoup de méthodes existent déjà pour prédire l'évolution de valeurs sur un marché. Nous allons voir dans la suite de cet atelier un *réseau de neurones récurrents* ou _RNN_.\n",
    "\n",
    "![caption](rnn.png)\n",
    "\n",
    "Ces réseaux de neurones ont la particularité de pouvoir faire des prédictions sur des _séries_ ou _données séquentielles_. Ils sont dotés d'une mémoire qui leur permet de prendre en contact des données qui précèdent les données sur lesquels il travaille."
   ]
  },
  {
   "cell_type": "markdown",
   "metadata": {},
   "source": [
    "## Observation des données\n",
    "\n",
    "Avant toutes choses, il est important de prendre connaissance des données avec lesquels nous allons entraîner notre algorithme. Nous utiliserons des relevés de l'indice boursier S&P 500 basé sur 500 grandes sociétés cotées sur les bourses américaines (Standard & Poor's).\n",
    "\n",
    "La plupart des modèles développés aujourd'hui en _deep learning_ sont des modèles supervisés. C'est à dire qu'ils se \"nourrissent\" de données labellisées pour apprendre. Cela demande donc une excellente expertise de ces dernières pour que l'IA atteigne son objectif."
   ]
  },
  {
   "cell_type": "code",
   "execution_count": null,
   "metadata": {
    "scrolled": true
   },
   "outputs": [],
   "source": [
    "# Nous chargeons les données\n",
    "data = pd.read_csv('datas/sp500.csv', header=None)\n",
    "# Affichons les 5 premières données\n",
    "data.head()"
   ]
  },
  {
   "cell_type": "code",
   "execution_count": null,
   "metadata": {},
   "outputs": [],
   "source": [
    "# Affichons les données sous forme de graphe pour avoir une meilleure compréhension\n",
    "data.plot(legend=False)"
   ]
  },
  {
   "cell_type": "code",
   "execution_count": null,
   "metadata": {},
   "outputs": [],
   "source": [
    "# Ici un peu de magie pour préparer les données avant de les envoyer dans le réseau\n",
    "# data = data.as_matrix()\n",
    "X_train, y_train, X_test, y_test = data_processing(data.as_matrix())"
   ]
  },
  {
   "cell_type": "markdown",
   "metadata": {},
   "source": [
    "## RNN network\n",
    "\n",
    "Une fois que nous avons nos données prêtes, il nous faut un modèle :"
   ]
  },
  {
   "cell_type": "code",
   "execution_count": null,
   "metadata": {},
   "outputs": [],
   "source": [
    "model = Sequential()\n",
    "\n",
    "model.add(LSTM(\n",
    "    input_dim=1,\n",
    "    output_dim=50,\n",
    "    return_sequences=True))\n",
    "\n",
    "model.add(Dropout(0.2))\n",
    "\n",
    "model.add(LSTM(\n",
    "    100,\n",
    "    return_sequences=False))\n",
    "\n",
    "model.add(Dropout(0.2))\n",
    "\n",
    "model.add(Dense(\n",
    "    output_dim=1))\n",
    "\n",
    "model.add(Activation('linear'))\n",
    "\n",
    "model.compile(loss='mse', optimizer='rmsprop')"
   ]
  },
  {
   "cell_type": "markdown",
   "metadata": {},
   "source": [
    "## Training"
   ]
  },
  {
   "cell_type": "code",
   "execution_count": null,
   "metadata": {},
   "outputs": [],
   "source": [
    "model.fit(\n",
    "    X_train,\n",
    "    y_train,\n",
    "    batch_size=512,\n",
    "    nb_epoch=100,\n",
    "    validation_split=0.05)"
   ]
  },
  {
   "cell_type": "code",
   "execution_count": null,
   "metadata": {
    "collapsed": true
   },
   "outputs": [],
   "source": [
    "# Afficher la loss et val_loss"
   ]
  },
  {
   "cell_type": "markdown",
   "metadata": {},
   "source": [
    "## Prédictions"
   ]
  },
  {
   "cell_type": "code",
   "execution_count": null,
   "metadata": {},
   "outputs": [],
   "source": [
    "# Prédictions sur X_test\n",
    "predictions = lstm.predict_sequences_multiple(model, X_test, 50, 50)\n",
    "# Afficher la prédiction"
   ]
  },
  {
   "cell_type": "markdown",
   "metadata": {},
   "source": [
    "## Comment améliorer les prédictions ?"
   ]
  }
 ],
 "metadata": {
  "kernelspec": {
   "display_name": "Python 3",
   "language": "python",
   "name": "python3"
  },
  "language_info": {
   "codemirror_mode": {
    "name": "ipython",
    "version": 3
   },
   "file_extension": ".py",
   "mimetype": "text/x-python",
   "name": "python",
   "nbconvert_exporter": "python",
   "pygments_lexer": "ipython3",
   "version": "3.6.3"
  }
 },
 "nbformat": 4,
 "nbformat_minor": 1
}
